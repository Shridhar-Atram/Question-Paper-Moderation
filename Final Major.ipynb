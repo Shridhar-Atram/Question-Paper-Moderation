{
 "cells": [
  {
   "cell_type": "code",
   "execution_count": 27,
   "id": "dd65a253",
   "metadata": {},
   "outputs": [],
   "source": [
    "import nltk\n",
    "import time\n",
    "from nltk.corpus import stopwords\n",
    "import nltk.data\n",
    "import torch\n",
    "import pdfplumber\n",
    "from sentence_transformers import SentenceTransformer, util"
   ]
  },
  {
   "cell_type": "code",
   "execution_count": 2,
   "id": "93b3dc96",
   "metadata": {},
   "outputs": [
    {
     "name": "stderr",
     "output_type": "stream",
     "text": [
      "[nltk_data] Error loading stopwords: <urlopen error [SSL:\n",
      "[nltk_data]     CERTIFICATE_VERIFY_FAILED] certificate verify failed:\n",
      "[nltk_data]     self signed certificate in certificate chain\n",
      "[nltk_data]     (_ssl.c:997)>\n",
      "[nltk_data] Error loading punkt: <urlopen error [SSL:\n",
      "[nltk_data]     CERTIFICATE_VERIFY_FAILED] certificate verify failed:\n",
      "[nltk_data]     self signed certificate in certificate chain\n",
      "[nltk_data]     (_ssl.c:997)>\n",
      "[nltk_data] Error loading wordnet: <urlopen error [SSL:\n",
      "[nltk_data]     CERTIFICATE_VERIFY_FAILED] certificate verify failed:\n",
      "[nltk_data]     self signed certificate in certificate chain\n",
      "[nltk_data]     (_ssl.c:997)>\n"
     ]
    },
    {
     "data": {
      "text/plain": [
       "False"
      ]
     },
     "execution_count": 2,
     "metadata": {},
     "output_type": "execute_result"
    }
   ],
   "source": [
    "# Download NLTK data (if not already downloaded)\n",
    "nltk.download('stopwords')\n",
    "nltk.download('punkt')\n",
    "nltk.download('wordnet')"
   ]
  },
  {
   "cell_type": "code",
   "execution_count": 28,
   "id": "f9382db3",
   "metadata": {},
   "outputs": [],
   "source": [
    "# Load BERT models\n",
    "model1 = SentenceTransformer('paraphrase-MiniLM-L3-v2')\n",
    "model2 = SentenceTransformer('all-distilroberta-v1')\n",
    "model3 = SentenceTransformer('multi-qa-distilbert-cos-v1')"
   ]
  },
  {
   "cell_type": "code",
   "execution_count": 29,
   "id": "4c02fc1c",
   "metadata": {},
   "outputs": [],
   "source": [
    "\n",
    "def model(user_ques_1, user_ques_2):\n",
    "    # Stop word removal\n",
    "    stop = stopwords.words('english')\n",
    "    ques_1_nstop = ' '.join([word for word in user_ques_1.split() if word not in stop])\n",
    "    ques_2_nstop = ' '.join([word for word in user_ques_2.split() if word not in stop])\n",
    "\n",
    "    # Tokenize the questions\n",
    "    tok_ques_1 = nltk.word_tokenize(ques_1_nstop)\n",
    "    tok_ques_2 = nltk.word_tokenize(ques_2_nstop)\n",
    "    tok_ques_1_str = ' '.join(map(str, tok_ques_1))\n",
    "    tok_ques_2_str = ' '.join(map(str, tok_ques_2))\n",
    "\n",
    "    # Lemmatize data\n",
    "    w_tokenizer = nltk.tokenize.WhitespaceTokenizer()\n",
    "    lemmatizer = nltk.stem.WordNetLemmatizer()\n",
    "\n",
    "    def lemmatize_text(text):\n",
    "        return ' '.join([lemmatizer.lemmatize(w) for w in w_tokenizer.tokenize(text)])\n",
    "\n",
    "    ques_1_lemm_str = lemmatize_text(tok_ques_1_str)\n",
    "    ques_2_lemm_str = lemmatize_text(tok_ques_2_str)\n",
    "\n",
    "    # Convert lemmatized data to lower case\n",
    "    ques_1_lemm_str = ques_1_lemm_str.lower()\n",
    "    ques_2_lemm_str = ques_2_lemm_str.lower()\n",
    "\n",
    "    # Text similarity scores obtained using 'paraphrase-MiniLM-L3-v2' BERT model\n",
    "    st = time.time()\n",
    "    embd1 = model1.encode(ques_1_lemm_str, convert_to_tensor=True)\n",
    "    embd2 = model1.encode(ques_2_lemm_str, convert_to_tensor=True)\n",
    "    cosine_scores1 = util.pytorch_cos_sim(embd1, embd2)\n",
    "    et = time.time()\n",
    "    elapsed_time = et - st\n",
    "\n",
    "    # Text similarity scores obtained using BERT model 'all-distilroberta-v1'\n",
    "    st = time.time()\n",
    "    embd1 = model2.encode(ques_1_lemm_str, convert_to_tensor=True)\n",
    "    embd2 = model2.encode(ques_2_lemm_str, convert_to_tensor=True)\n",
    "    cosine_scores2 = util.pytorch_cos_sim(embd1, embd2)\n",
    "    et = time.time()\n",
    "    elapsed_time = et - st\n",
    "\n",
    "    # Text similarity scores obtained using BERT model 'multi-qa-distilbert-cos-v1'\n",
    "    st = time.time()\n",
    "    embd1 = model3.encode(ques_1_lemm_str, convert_to_tensor=True)\n",
    "    embd2 = model3.encode(ques_2_lemm_str, convert_to_tensor=True)\n",
    "    cosine_scores3 = util.pytorch_cos_sim(embd1, embd2)\n",
    "    et = time.time()\n",
    "    elapsed_time = et - st\n",
    "\n",
    "    # Calculate average similarity score\n",
    "    avg_similarity_score = (cosine_scores1.item() + cosine_scores2.item() + cosine_scores3.item()) / 3\n",
    "\n",
    "    return avg_similarity_score\n"
   ]
  },
  {
   "cell_type": "code",
   "execution_count": 30,
   "id": "c8b082c4",
   "metadata": {},
   "outputs": [],
   "source": [
    "# Define a function to extract text from a PDF file\n",
    "def extract_text_from_pdf(pdf_path):\n",
    "    with pdfplumber.open(pdf_path) as pdf:\n",
    "        text = \"\"\n",
    "        for page in pdf.pages:\n",
    "            text += page.extract_text()\n",
    "    return text"
   ]
  },
  {
   "cell_type": "code",
   "execution_count": 6,
   "id": "c5dfd922",
   "metadata": {},
   "outputs": [
    {
     "ename": "SyntaxError",
     "evalue": "unexpected character after line continuation character (235552375.py, line 1)",
     "output_type": "error",
     "traceback": [
      "\u001b[1;36m  Cell \u001b[1;32mIn[6], line 1\u001b[1;36m\u001b[0m\n\u001b[1;33m    C:\\Users\\shric\\Downloads\\same_q.pdf\u001b[0m\n\u001b[1;37m       ^\u001b[0m\n\u001b[1;31mSyntaxError\u001b[0m\u001b[1;31m:\u001b[0m unexpected character after line continuation character\n"
     ]
    }
   ],
   "source": [
    "C:\\Users\\shric\\Downloads\\same_q.pdf\n",
    "C:\\Users\\shric\\Downloads\\same_q2.pdf\n",
    "    \n",
    "C:\\Users\\shric\\Desktop\\Seminar\\partial_same_1.pdf\n",
    "C:\\Users\\shric\\Desktop\\Seminar\\partial_same_2.pdf\n",
    "    \n",
    "    \n",
    "C:\\Users\\shric\\Desktop\\Seminar\\test1.pdf\n",
    "C:\\Users\\shric\\Desktop\\Seminar\\test2.pdf"
   ]
  },
  {
   "cell_type": "code",
   "execution_count": 45,
   "id": "f0f6ee0a",
   "metadata": {},
   "outputs": [
    {
     "name": "stdout",
     "output_type": "stream",
     "text": [
      "Enter the path to the first PDF file: C:\\Users\\shric\\Desktop\\Seminar\\partial_same_1.pdf\n",
      "Enter the path to the second PDF file: C:\\Users\\shric\\Desktop\\Seminar\\partial_same_2.pdf\n"
     ]
    }
   ],
   "source": [
    "# Prompt the user to enter the paths to the PDF files\n",
    "pdf_path1 = input(\"Enter the path to the first PDF file: \")\n",
    "pdf_path2 = input(\"Enter the path to the second PDF file: \")\n",
    "\n",
    "\n",
    "# Extract text from both PDF files\n",
    "question_paper1_text = extract_text_from_pdf(pdf_path1)\n",
    "question_paper2_text = extract_text_from_pdf(pdf_path2)"
   ]
  },
  {
   "cell_type": "code",
   "execution_count": 46,
   "id": "60c1e28e",
   "metadata": {},
   "outputs": [
    {
     "name": "stdout",
     "output_type": "stream",
     "text": [
      "1. What is the difference between Python 2 and Python 3, and why is it important to migrate to\n",
      "Python 3?\n",
      "2. How can you create a Python func(cid:415)on that accepts a variable number of arguments or\n",
      "keyword arguments?\n",
      "3. Explain the Global Interpreter Lock (GIL) in Python. How does it impact mul(cid:415)-threading in\n",
      "Python programs?\n",
      "4. What is the purpose of virtual environments in Python, and how do you create and ac(cid:415)vate a\n",
      "virtual environment using the standard library tools?\n",
      "-----------------------------------------------------------\n",
      "1. What is the difference between Python 2 and Python 3, and why is it important to migrate to\n",
      "Python 3?\n",
      "2. How can you create a Python func(cid:415)on that accepts a variable number of arguments or\n",
      "keyword arguments?\n",
      "3. What were the major causes and consequences of the American Civil War in the 19th\n",
      "century?\n",
      "4. How did the Industrial Revolu(cid:415)on in the 18th and 19th centuries transform economies,\n",
      "socie(cid:415)es, and technology in Western countries?\n"
     ]
    }
   ],
   "source": [
    "print(question_paper1_text)\n",
    "print(\"-----------------------------------------------------------\")\n",
    "print(question_paper2_text)"
   ]
  },
  {
   "cell_type": "code",
   "execution_count": 47,
   "id": "0e328da4",
   "metadata": {},
   "outputs": [
    {
     "name": "stdout",
     "output_type": "stream",
     "text": [
      "arr1: ['What is the difference between Python 2 and Python 3, and why is it important to migrate to\\nPython 3?', 'How can you create a Python func(cid:415)on that accepts a variable number of arguments or\\nkeyword arguments?', 'Explain the Global Interpreter Lock (GIL) in Python. How does it impact mul(cid:415)-threading in\\nPython programs?', 'What is the purpose of virtual environments in Python, and how do you create and ac(cid:415)vate a\\nvirtual environment using the standard library tools?']\n",
      "--------------------------------------------------------------------------------------------\n",
      "arr2: ['What is the difference between Python 2 and Python 3, and why is it important to migrate to\\nPython 3?', 'How can you create a Python func(cid:415)on that accepts a variable number of arguments or\\nkeyword arguments?', 'What were the major causes and consequences of the American Civil War in the 19th\\ncentury?', 'How did the Industrial Revolu(cid:415)on in the 18th and 19th centuries transform economies,\\nsocie(cid:415)es, and technology in Western countries?']\n",
      "1.0\n",
      "1.0000000794728596\n",
      "--------------------------------------------------------------------------------------------\n",
      "new_paper: ['What is the difference between Python 2 and Python 3, and why is it important to migrate to\\nPython 3?', 'How can you create a Python func(cid:415)on that accepts a variable number of arguments or\\nkeyword arguments?', 'What were the major causes and consequences of the American Civil War in the 19th\\ncentury?', 'How did the Industrial Revolu(cid:415)on in the 18th and 19th centuries transform economies,\\nsocie(cid:415)es, and technology in Western countries?', 'Explain the Global Interpreter Lock (GIL) in Python. How does it impact mul(cid:415)-threading in\\nPython programs?', 'What is the purpose of virtual environments in Python, and how do you create and ac(cid:415)vate a\\nvirtual environment using the standard library tools?']\n"
     ]
    }
   ],
   "source": [
    "#question_paper1_text = \"1. Define and explain Unified Modeling Language (UML) 2. Explain conceptual model of UML 3. Explain building blocks in UML. 4. Explain things and relationships in UML. 5. List and explain diagrams in UML. 6. Explain common mechanism in UML\"\n",
    "\n",
    "#question_paper2_text = \"1. Define and explain Unified Modeling Language (UML) 2. Explain conceptual model of UML 3. Explain building blocks in UML. 4. .List and explain UML2.0 diagrams. 5. Explain object diagram in UML.\"\n",
    "\n",
    "import re\n",
    "\n",
    "# Use regular expressions to split the text into individual questions\n",
    "arr1 = re.split(r'\\d+\\.', question_paper1_text)\n",
    "arr2 = re.split(r'\\d+\\.', question_paper2_text)\n",
    "\n",
    "# Remove any leading or trailing whitespace from the questions\n",
    "arr1 = [question.strip() for question in arr1 if question.strip()]\n",
    "arr2 = [question.strip() for question in arr2 if question.strip()]\n",
    "\n",
    "# Create an array to store the questions\n",
    "arr1 = arr1\n",
    "arr2 = arr2\n",
    "\n",
    "print(\"arr1:\", arr1)\n",
    "print(\"--------------------------------------------------------------------------------------------\")\n",
    "print(\"arr2:\", arr2)\n",
    "\n",
    "new_paper = []\n",
    "# flag = 0\n",
    "\n",
    "for q1 in arr1:\n",
    "    for q2 in arr2:\n",
    "        similarity = model(q1, q2)\n",
    "        if similarity > 0.7:\n",
    "            print(similarity)\n",
    "            new_paper.append(q1)\n",
    "            \n",
    "            break  # Break to avoid adding duplicates\n",
    "\n",
    "# Add questions from question_paper2 that didn't have matches\n",
    "for q2 in arr2:\n",
    "    if q2 not in new_paper:\n",
    "        new_paper.append(q2)\n",
    "        \n",
    "for q1 in arr1:\n",
    "    if q1 not in new_paper:\n",
    "        new_paper.append(q1)\n",
    "print(\"--------------------------------------------------------------------------------------------\")\n",
    "# Print the new_paper array\n",
    "print(\"new_paper:\", new_paper)"
   ]
  },
  {
   "cell_type": "raw",
   "id": "9a910847",
   "metadata": {},
   "source": [
    "\n"
   ]
  },
  {
   "cell_type": "code",
   "execution_count": null,
   "id": "e4f529bd",
   "metadata": {},
   "outputs": [],
   "source": [
    "!pip install fitz\n",
    "!pip install PyMuPDF\n"
   ]
  },
  {
   "cell_type": "code",
   "execution_count": 48,
   "id": "502d4075",
   "metadata": {},
   "outputs": [],
   "source": [
    "from reportlab.lib.pagesizes import A4\n",
    "from reportlab.pdfgen import canvas\n",
    "\n",
    "\n",
    "# Create a PDF document with A4 page size\n",
    "pdf_file = \"output.pdf\"\n",
    "c = canvas.Canvas(pdf_file, pagesize=A4)\n",
    "\n",
    "# Set font and other attributes\n",
    "c.setFont(\"Helvetica\", 12)\n",
    "line_height = 14  # Adjust line height as needed\n",
    "bottom_margin = 20  # Margin to leave at the bottom of the page\n",
    "\n",
    "# Calculate the available height on the page\n",
    "page_height = A4[1] - bottom_margin\n",
    "\n",
    "# Initialize page count\n",
    "page_number = 1\n",
    "\n",
    "# Iterate through the list and add the content to the PDF with pagination\n",
    "y_position = page_height\n",
    "\n",
    "for index, content in enumerate(new_paper, start=1):\n",
    "    if y_position - line_height < 0:\n",
    "        # If the content would overflow, start a new page\n",
    "        c.showPage()\n",
    "        c.setFont(\"Helvetica\", 12)  # Reset font for the new page\n",
    "        y_position = page_height\n",
    "        page_number += 1\n",
    "\n",
    "    content_with_index = f\"{index}. {content}\"\n",
    "    c.drawString(20, y_position, content_with_index)\n",
    "    y_position -= line_height\n",
    "\n",
    "# Save the PDF document\n",
    "c.save()\n"
   ]
  },
  {
   "cell_type": "code",
   "execution_count": 43,
   "id": "1194edaa",
   "metadata": {},
   "outputs": [],
   "source": [
    "# Create a text file to write the content\n",
    "txt_file = \"output.txt\"\n",
    "\n",
    "# Open the text file for writing\n",
    "with open(txt_file, \"w\") as file:\n",
    "    for index, content in enumerate(new_paper, start=1):\n",
    "        content_with_index = f\"{index}. {content}\\n\"\n",
    "        file.write(content_with_index)\n"
   ]
  },
  {
   "cell_type": "code",
   "execution_count": 49,
   "id": "3b2e1e9e",
   "metadata": {},
   "outputs": [
    {
     "name": "stdout",
     "output_type": "stream",
     "text": [
      "PDF file \"output.pdf\" generated successfully.\n"
     ]
    }
   ],
   "source": [
    "from reportlab.lib.pagesizes import letter\n",
    "from reportlab.platypus import SimpleDocTemplate, Paragraph\n",
    "from reportlab.lib.styles import getSampleStyleSheet\n",
    "from reportlab.lib import colors\n",
    "from reportlab.lib.enums import TA_CENTER\n",
    "from reportlab.platypus import Spacer\n",
    "\n",
    "output_file = 'output.pdf'\n",
    "\n",
    "# Define custom page size with margins\n",
    "page_width = letter[0]\n",
    "page_height = letter[1]\n",
    "left_margin = 36  # Adjust the margin values as needed\n",
    "right_margin = 36\n",
    "top_margin = 36\n",
    "bottom_margin = 36\n",
    "\n",
    "# Create a PDF document with custom margins\n",
    "doc = SimpleDocTemplate(output_file, pagesize=(page_width, page_height), leftMargin=left_margin, rightMargin=right_margin, topMargin=top_margin, bottomMargin=bottom_margin)\n",
    "\n",
    "# Create a list to store the content of the PDF\n",
    "story = []\n",
    "\n",
    "# Define a style for the content\n",
    "styles = getSampleStyleSheet()\n",
    "style = styles['Normal']\n",
    "style.alignment = TA_CENTER  # Center align the tex\n",
    "\n",
    "# Open and read the input text file\n",
    "with open(txt_file, 'r') as file:\n",
    "    for line in file:\n",
    "        paragraph = Paragraph(line.strip(), style)\n",
    "        story.append(paragraph)\n",
    "        story.append(Spacer(1, 5))  # Add some space between paragraphs\n",
    "\n",
    "# Build the PDF document\n",
    "doc.build(story)\n",
    "\n",
    "print(f'PDF file \"{output_file}\" generated successfully.')\n"
   ]
  },
  {
   "cell_type": "code",
   "execution_count": null,
   "id": "002b0abf",
   "metadata": {},
   "outputs": [],
   "source": []
  }
 ],
 "metadata": {
  "kernelspec": {
   "display_name": "Python 3 (ipykernel)",
   "language": "python",
   "name": "python3"
  },
  "language_info": {
   "codemirror_mode": {
    "name": "ipython",
    "version": 3
   },
   "file_extension": ".py",
   "mimetype": "text/x-python",
   "name": "python",
   "nbconvert_exporter": "python",
   "pygments_lexer": "ipython3",
   "version": "3.10.9"
  }
 },
 "nbformat": 4,
 "nbformat_minor": 5
}
